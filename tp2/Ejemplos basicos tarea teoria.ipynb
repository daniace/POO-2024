{
  "cells": [
    {
      "cell_type": "markdown",
      "metadata": {
        "id": "33bx8qoQL7fI"
      },
      "source": [
        "# Práctica básica de python"
      ]
    },
    {
      "cell_type": "markdown",
      "metadata": {
        "id": "qd3mN4IRMElU"
      },
      "source": [
        "1.   Ingrese dos valores por consola y devuelva el producto de ambos si el resultado es menor a 1000, sino devolver su suma.\n",
        "\n"
      ]
    },
    {
      "cell_type": "code",
      "execution_count": 1,
      "metadata": {
        "colab": {
          "base_uri": "https://localhost:8080/"
        },
        "id": "4ACOSw_oLDWi",
        "outputId": "51f25a0d-47a0-42fc-c223-1a3ea28aaa51"
      },
      "outputs": [
        {
          "name": "stdout",
          "output_type": "stream",
          "text": [
            "El producto es:  540\n"
          ]
        }
      ],
      "source": [
        "valor1 = int(input(\"Primer valor: \"))\n",
        "valor2 = int(input(\"Segundo valor: \"))\n",
        "\n",
        "valorfinal = valor1 * valor2\n",
        "if valorfinal < 1000:\n",
        "    print(\"El producto es: \", valorfinal)\n",
        "else:\n",
        "    valorfinal = valor1 + valor2\n",
        "    print(\"La suma es: \", valorfinal)\n"
      ]
    },
    {
      "cell_type": "markdown",
      "metadata": {
        "id": "7CFhHxl2NSOL"
      },
      "source": [
        "2.   Itere sobre los primeros 10 números y en cada iteración imprima la suma del numero actual y el anterior."
      ]
    },
    {
      "cell_type": "code",
      "execution_count": 7,
      "metadata": {
        "colab": {
          "base_uri": "https://localhost:8080/"
        },
        "id": "ITktRattLoYV",
        "outputId": "b237a68b-8884-442f-85ed-fe20ab3b6d98"
      },
      "outputs": [
        {
          "name": "stdout",
          "output_type": "stream",
          "text": [
            "1\n",
            "3\n",
            "5\n",
            "7\n",
            "9\n",
            "11\n",
            "13\n",
            "15\n",
            "17\n"
          ]
        }
      ],
      "source": [
        "for i in range(1, 10):\n",
        "    print(i+(i-1))\n"
      ]
    },
    {
      "cell_type": "markdown",
      "metadata": {
        "id": "wXqPytg4NeLq"
      },
      "source": [
        "3.   Dada una cadena ingresada por consola, imprima los caracteres en posiciones pares. Por ejemplo para la cadena \"hola\" debería imprimir h l"
      ]
    },
    {
      "cell_type": "code",
      "execution_count": 17,
      "metadata": {
        "colab": {
          "base_uri": "https://localhost:8080/"
        },
        "id": "mpeNgbisM5r8",
        "outputId": "0d0de821-47fe-4e04-e64f-8cea5447fe69"
      },
      "outputs": [
        {
          "name": "stdout",
          "output_type": "stream",
          "text": [
            "trolo\n"
          ]
        }
      ],
      "source": [
        "cade = input(\"Palabra: \")\n",
        "# [inicio:fin:step]\n",
        "print(cade[0::2])"
      ]
    },
    {
      "cell_type": "markdown",
      "metadata": {
        "id": "FJ7aY8r6OlRv"
      },
      "source": [
        "4.   Escriba una función que remueva los primeros n elementos de un string"
      ]
    },
    {
      "cell_type": "code",
      "execution_count": 10,
      "metadata": {
        "colab": {
          "base_uri": "https://localhost:8080/"
        },
        "id": "zS0jvUX5N2D9",
        "outputId": "7e81b272-3871-437b-f7f7-709072584190"
      },
      "outputs": [
        {
          "name": "stdout",
          "output_type": "stream",
          "text": [
            "Palabra escogida: hola\n",
            "Despues de remover 2 caracteres: la\n"
          ]
        }
      ],
      "source": [
        "palabra = input(\"Palabra:\")\n",
        "print(\"Palabra escogida:\", palabra)\n",
        "def removedor():\n",
        "    n = int(input(\"Cantidad de caracteres a eliminar:\"))\n",
        "    print(\"Despues de remover\", n, \"caracteres:\",palabra[n: ])\n",
        "\n",
        "removedor()"
      ]
    },
    {
      "cell_type": "markdown",
      "metadata": {
        "id": "CYK-q1NKPunW"
      },
      "source": [
        "5.   Escriba una función que devuelva True si el ultimo numero es igual al primero, y falso si son diferentes."
      ]
    },
    {
      "cell_type": "code",
      "execution_count": 16,
      "metadata": {
        "colab": {
          "base_uri": "https://localhost:8080/"
        },
        "id": "h4wGWGu9PA0w",
        "outputId": "55bcdef8-381c-4395-c82d-5986815e39e0"
      },
      "outputs": [
        {
          "data": {
            "text/plain": [
              "True"
            ]
          },
          "execution_count": 16,
          "metadata": {},
          "output_type": "execute_result"
        }
      ],
      "source": [
        "mi_lista = [5,2,3,4,5]\n",
        "def igual():\n",
        "    if mi_lista[0] == mi_lista[-1]:\n",
        "        return True\n",
        "    else:\n",
        "        return False\n",
        "\n",
        "igual()"
      ]
    },
    {
      "cell_type": "markdown",
      "metadata": {
        "id": "XVQZwTDSRAJP"
      },
      "source": [
        "6. Dada una lista imprima los elementos que sean divisibles por 5"
      ]
    },
    {
      "cell_type": "code",
      "execution_count": 23,
      "metadata": {
        "colab": {
          "base_uri": "https://localhost:8080/"
        },
        "id": "scoEf97BQsR_",
        "outputId": "edad29f0-a7ec-4991-f544-3ad8d55fdf56"
      },
      "outputs": [
        {
          "name": "stdout",
          "output_type": "stream",
          "text": [
            "5\n",
            "10\n",
            "15\n",
            "20\n"
          ]
        }
      ],
      "source": [
        "listita = [1,2,3,4,5,6,7,8,9,10,11,12,13,14,15,16,17,18,19,20]\n",
        "\n",
        "\n",
        "def divisibles_por_cinco():\n",
        "    for i in listita:\n",
        "        if i % 5 == 0:\n",
        "            print(i)\n",
        "\n",
        "divisibles_por_cinco()"
      ]
    },
    {
      "cell_type": "markdown",
      "metadata": {
        "id": "Sh-l7QCrRp_H"
      },
      "source": [
        "7. Escriba un programa que cuente cuantas substrings existen dentro de un string. Ingrese ambas string por consola."
      ]
    },
    {
      "cell_type": "code",
      "execution_count": 6,
      "metadata": {
        "colab": {
          "base_uri": "https://localhost:8080/"
        },
        "id": "Lg9KzsOsRbQZ",
        "outputId": "3e69951f-c691-4c47-e61e-4ea905513bc9"
      },
      "outputs": [
        {
          "name": "stdout",
          "output_type": "stream",
          "text": [
            "La segunda palabra: manzana - contiene a la primera: ana\n"
          ]
        }
      ],
      "source": [
        "cade1 = input(\"Palabra a contener: \")\n",
        "cade2 = input(\"Palabra con contenido: \")\n",
        "\n",
        "def substrings():\n",
        "    if cade1 in cade2:\n",
        "        print(\"La segunda palabra:\", cade2, \"- contiene a la primera:\", cade1)\n",
        "    else:\n",
        "        print(\"La segunda palabra:\", cade2, \"- no contiene a la primera:\", cade1)\n",
        "\n",
        "substrings()"
      ]
    },
    {
      "cell_type": "markdown",
      "metadata": {
        "id": "t-2k4ozfZLLU"
      },
      "source": [
        "8. Escriba un programa que determine si un numero es palimdromo/capicua. Ej: 12321 o 707."
      ]
    },
    {
      "cell_type": "code",
      "execution_count": 4,
      "metadata": {
        "colab": {
          "base_uri": "https://localhost:8080/"
        },
        "id": "PQdHk57RW-nm",
        "outputId": "eb2bfe0c-2ac2-4031-f493-397edd85b361"
      },
      "outputs": [
        {
          "name": "stdout",
          "output_type": "stream",
          "text": [
            "No es palindromo\n"
          ]
        }
      ],
      "source": [
        "num = int(input(\"Numero: \"))\n",
        "def palindromo():\n",
        "    # [inicio:fin:step] -1 es para invertir\n",
        "    # str(num)[::-1] - invierte el numero\n",
        "    if str(num) == str(num)[::-1]:\n",
        "        print(\"Es palindromo\")\n",
        "    else:\n",
        "        print(\"No es palindromo\")\n",
        "\n",
        "palindromo()"
      ]
    },
    {
      "cell_type": "markdown",
      "metadata": {
        "id": "I_dstnDInMeX"
      },
      "source": [
        "9. dada dos listas de numeros, crear una tercera con los numeros pares de la primera y los impares de la tercera."
      ]
    },
    {
      "cell_type": "code",
      "execution_count": 15,
      "metadata": {
        "colab": {
          "base_uri": "https://localhost:8080/"
        },
        "id": "ESfneGlJYr6r",
        "outputId": "36c09f13-069f-475d-d2a3-68cc2e473321"
      },
      "outputs": [
        {
          "name": "stdout",
          "output_type": "stream",
          "text": [
            "[2, 4, 6, 8, 10, 11, 13, 15, 17, 19]\n"
          ]
        }
      ],
      "source": [
        "lista1 = [1,2,3,4,5,6,7,8,9,10]\n",
        "lista2 = [11, 12, 13, 14, 15, 16, 17, 18, 19, 20]\n",
        "lista = []\n",
        "\n",
        "def unir():\n",
        "    for i in range(0, len(lista1)):\n",
        "        if i % 2 != 0:\n",
        "            lista.append(lista1[i])\n",
        "    \n",
        "    for i in range(0, len(lista2)):\n",
        "        if i % 2 == 0:\n",
        "            lista.append(lista2[i])\n",
        "\n",
        "\n",
        "unir()    \n",
        "print(lista)"
      ]
    },
    {
      "cell_type": "markdown",
      "metadata": {
        "id": "FJq1yXP6uiI9"
      },
      "source": [
        "10. Utilice la funcion filter() y una funcion lambda para lograr el mismo programa que en 9."
      ]
    },
    {
      "cell_type": "code",
      "execution_count": 16,
      "metadata": {
        "colab": {
          "base_uri": "https://localhost:8080/"
        },
        "id": "6MHya_-Ku1MP",
        "outputId": "f5fbf0e0-dab7-4da5-82b9-aadaa5126e60"
      },
      "outputs": [
        {
          "name": "stdout",
          "output_type": "stream",
          "text": [
            "[2, 4, 6, 8, 10, 11, 13, 15, 17, 19]\n"
          ]
        }
      ],
      "source": [
        "lista1 = [1,2,3,4,5,6,7,8,9,10]\n",
        "lista2 = [11, 12, 13, 14, 15, 16, 17, 18, 19, 20]\n",
        "lista = []\n",
        "\n",
        "def unir():\n",
        "    lista = list(filter(lambda x: x % 2 == 0, lista1))\n",
        "    lista += list(filter(lambda x: x % 2 != 0, lista2))\n",
        "    print(lista)\n",
        "\n",
        "unir()"
      ]
    },
    {
      "cell_type": "markdown",
      "metadata": {
        "id": "HLu3zVSHoEHS"
      },
      "source": [
        "11. a partir de los siguientes dict, concatene en uno solo.\n",
        "{1:10, 2:20}\n",
        "{3:30, 4:40}\n",
        "{5:50, 6:60}"
      ]
    },
    {
      "cell_type": "code",
      "execution_count": 17,
      "metadata": {
        "colab": {
          "base_uri": "https://localhost:8080/"
        },
        "id": "8Ka7Ya-3nvIf",
        "outputId": "d2fd550e-b1de-486f-9ab0-ca75b8b8ab7a"
      },
      "outputs": [
        {
          "name": "stdout",
          "output_type": "stream",
          "text": [
            "{1: 10, 2: 20, 3: 30, 4: 40, 5: 50, 6: 60}\n"
          ]
        }
      ],
      "source": [
        "dict1 = {1:10, 2:20}\n",
        "dict2 = {3:30, 4:40}\n",
        "dict3 = {5:50, 6:60}\n",
        "\n",
        "dict = {}\n",
        "\n",
        "def unir():\n",
        "    # ** - une diccionarios\n",
        "    dict = {**dict1, **dict2, **dict3}\n",
        "    print(dict)"
      ]
    },
    {
      "cell_type": "markdown",
      "metadata": {
        "id": "HOv8EtCytF7D"
      },
      "source": [
        "12. Elimine los elementos vacios de un diccionario, por ejemplo dado {'a':1,'b':2,'c':None} conseguir {'a':1,'b':2}"
      ]
    },
    {
      "cell_type": "code",
      "execution_count": 21,
      "metadata": {
        "colab": {
          "base_uri": "https://localhost:8080/"
        },
        "id": "lz9g0pmRsYWg",
        "outputId": "991f8539-0351-4f0f-bf41-2081b96afdeb"
      },
      "outputs": [
        {
          "name": "stdout",
          "output_type": "stream",
          "text": [
            "{'a': 1, 'b': 2}\n"
          ]
        }
      ],
      "source": [
        "dict = {'a':1, 'b':2, 'c':None}\n",
        "\n",
        "def remover(d):\n",
        "    # Elimina valores nulos\n",
        "    d = {key: value for key, value in dict.items() if value is not None}\n",
        "    print(d)\n",
        "\n",
        "remover(dict)"
      ]
    }
  ],
  "metadata": {
    "colab": {
      "provenance": []
    },
    "kernelspec": {
      "display_name": "Python 3",
      "name": "python3"
    },
    "language_info": {
      "codemirror_mode": {
        "name": "ipython",
        "version": 3
      },
      "file_extension": ".py",
      "mimetype": "text/x-python",
      "name": "python",
      "nbconvert_exporter": "python",
      "pygments_lexer": "ipython3",
      "version": "3.12.5"
    }
  },
  "nbformat": 4,
  "nbformat_minor": 0
}
