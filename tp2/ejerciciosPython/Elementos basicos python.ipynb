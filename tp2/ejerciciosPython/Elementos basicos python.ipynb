{
  "cells": [
    {
      "cell_type": "markdown",
      "metadata": {
        "id": "ih5HGW1MEvvr"
      },
      "source": [
        "# **Teoria 1 - Python básico**"
      ]
    },
    {
      "cell_type": "code",
      "execution_count": 2,
      "metadata": {
        "colab": {
          "base_uri": "https://localhost:8080/"
        },
        "id": "V1YUquN4FZGk",
        "outputId": "1a9a6906-ac23-41dd-836a-5faffc43ddf5"
      },
      "outputs": [
        {
          "name": "stdout",
          "output_type": "stream",
          "text": [
            "Versión:- 3.10.12 (main, Jun 11 2023, 05:26:28) [GCC 11.4.0]\n"
          ]
        }
      ],
      "source": [
        "import sys\n",
        "print(\"Versión:-\", sys.version)"
      ]
    },
    {
      "cell_type": "code",
      "execution_count": 3,
      "metadata": {
        "colab": {
          "base_uri": "https://localhost:8080/"
        },
        "id": "0hFpBH_mJFLf",
        "outputId": "652bfd9d-12ee-4969-9199-f064a03221cd"
      },
      "outputs": [
        {
          "name": "stdout",
          "output_type": "stream",
          "text": [
            "Hola mundo\n"
          ]
        }
      ],
      "source": [
        "print(\"Hola mundo\")"
      ]
    },
    {
      "cell_type": "code",
      "execution_count": 4,
      "metadata": {
        "colab": {
          "base_uri": "https://localhost:8080/"
        },
        "id": "lwxf_nQCLYzW",
        "outputId": "7b02251f-af11-46be-d06c-ba4d33f5ca39"
      },
      "outputs": [
        {
          "name": "stdout",
          "output_type": "stream",
          "text": [
            "<class 'str'>\n"
          ]
        }
      ],
      "source": [
        "hola = \"hola mundo\"\n",
        "print(type(hola))\n"
      ]
    },
    {
      "cell_type": "markdown",
      "metadata": {
        "id": "s8d7HB8TbrpC"
      },
      "source": [
        "### Tipos de números"
      ]
    },
    {
      "cell_type": "code",
      "execution_count": 5,
      "metadata": {
        "colab": {
          "base_uri": "https://localhost:8080/"
        },
        "id": "xDo5uVNsNl8c",
        "outputId": "e6818ec1-78c0-4f61-dd2e-45fa1cfd3f38"
      },
      "outputs": [
        {
          "name": "stdout",
          "output_type": "stream",
          "text": [
            "<class 'int'>\n",
            "<class 'float'>\n",
            "<class 'complex'>\n",
            "<class 'bool'>\n",
            "<class 'NoneType'>\n"
          ]
        }
      ],
      "source": [
        "entero = 30\n",
        "print(type(entero))\n",
        "\n",
        "flotante = 10.4  #0.1e-3\n",
        "print(type(flotante))\n",
        "\n",
        "complejo = 2.1 +7.8j\n",
        "print(type(complejo))\n",
        "\n",
        "booleano = True\n",
        "print(type(booleano))\n",
        "\n",
        "x = None\n",
        "print(type(x))"
      ]
    },
    {
      "cell_type": "markdown",
      "metadata": {
        "id": "PqVoexz8b0Ja"
      },
      "source": [
        "### Operaciones aritméticas"
      ]
    },
    {
      "cell_type": "code",
      "execution_count": 6,
      "metadata": {
        "id": "_HVMxr3tNuui"
      },
      "outputs": [],
      "source": [
        "r = 3 + 2 # suma r es 5\n",
        "r = 4 - 7 # resta r es -3\n",
        "r = -7 # negación r es -7\n",
        "r = 2 * 6 # multiplicación r es 12\n",
        "r = 2 ** 6 # exponente r es 64\n",
        "r = 3.5 / 2 # división r es 1.75\n",
        "r = 3.5 // 2 # división entera r es 1\n",
        "r = 17 % 5 # módulo r es 2, devuelve el resto de la división\n"
      ]
    },
    {
      "cell_type": "markdown",
      "metadata": {
        "id": "v6hDiJKQyhp2"
      },
      "source": [
        "### Strings"
      ]
    },
    {
      "cell_type": "code",
      "execution_count": 7,
      "metadata": {
        "colab": {
          "base_uri": "https://localhost:8080/"
        },
        "id": "YC7-iPkcX6xz",
        "outputId": "987e5ce7-6768-45cc-fd9d-e47eb0bf04a2"
      },
      "outputs": [
        {
          "name": "stdout",
          "output_type": "stream",
          "text": [
            "Hola\n",
            "mundo\n",
            "\\n\n",
            "primer linea\n",
            "segunda linea\n",
            "tercera\n",
            "hi! hola hola hola \n"
          ]
        }
      ],
      "source": [
        "print('Hola\\nmundo')\n",
        "print(r\"\\n\")\n",
        "print(\"\"\"primer linea\n",
        "segunda linea\n",
        "tercera\"\"\")\n",
        "\n",
        "print(\"hi! \"+ \"hola \"*3)"
      ]
    },
    {
      "cell_type": "markdown",
      "metadata": {
        "id": "ukZt9TvWzAIH"
      },
      "source": [
        "### Booleanos y operadores relacionales"
      ]
    },
    {
      "cell_type": "code",
      "execution_count": 8,
      "metadata": {
        "id": "1lVWbCXQf1BX"
      },
      "outputs": [],
      "source": [
        "r = True and False #false\n",
        "r = True or False #true\n",
        "r = not True #false\n",
        "\n",
        "r = 5 == 3 #false\n",
        "r = 5 != 3 #True\n",
        "r = 5 < 3 #False\n",
        "r = 5 > 3 #True\n",
        "r = 5 <= 5 #true\n",
        "r = 5 >=3 #true"
      ]
    },
    {
      "cell_type": "markdown",
      "metadata": {
        "id": "fRkW_wAa07sv",
        "slideshow": {
          "slide_type": "slide"
        }
      },
      "source": [
        "# Colecciones"
      ]
    },
    {
      "cell_type": "markdown",
      "metadata": {
        "id": "wDwkULHW1ADO"
      },
      "source": [
        "### Listas"
      ]
    },
    {
      "cell_type": "code",
      "execution_count": 9,
      "metadata": {
        "colab": {
          "base_uri": "https://localhost:8080/"
        },
        "id": "f8GMaj1jzCET",
        "outputId": "01f4e41f-efd6-4f34-a14f-e60853b304bf"
      },
      "outputs": [
        {
          "name": "stdout",
          "output_type": "stream",
          "text": [
            "<class 'list'>\n",
            "22\n",
            "7\n",
            "[11, True, 'La lista', [1, 7]]\n",
            "La lista\n",
            "[True, 'La lista']\n",
            "[11, 'La lista']\n",
            "['La lista', [1, 7]]\n",
            "[0, 1, 'La lista', [1, 7]]\n",
            " alumnos\n",
            "[1, 'La lista', [1, 7]]\n"
          ]
        }
      ],
      "source": [
        "lista = [22,True, \"La lista\", [1,7]]\n",
        "print(type(lista))\n",
        "print( lista[0] )  #<-- 22, indice comienza con 0\n",
        "print( lista[3][1]) #<-- 7,  acceder a un elemento de la lista en la lista\n",
        "lista[0] = 11 #<-- [11,True, \"La lista\", [1,7]]\n",
        "print(lista)\n",
        "print( lista[-2] ) #<-- \"la lista\",  se pueden usar indices negativos\n",
        "\n",
        "#las listas y tuplas son secuencias, permiten slicing\n",
        "print( lista[1:3] ) #[True, 'La lista'], (inicio:fin) nos da una sublista desde indice 1 a 3 (sin incluir el 3)\n",
        "print( lista[0:4:2]) #[11, 'La lista'], (inicio:fin:step) tomo desde inicio a fin, cada dos elementos.\n",
        "print( lista[2: ] ) #['La lista', [1, 7]], por defecto va hasta el final\n",
        "\n",
        "lista[0:2] = [0,1]\n",
        "print( lista ) #<-- [0, 1, 'La lista', [1, 7]]\n",
        "\n",
        "string = \"hola alumnos\"\n",
        "print( string[4:])\n",
        "\n",
        "\n",
        "#borrar un elemento\n",
        "del lista[0]\n",
        "print( lista) #[1, 'La lista', [1, 7]]\n"
      ]
    },
    {
      "cell_type": "markdown",
      "metadata": {
        "id": "dill04s25rGG"
      },
      "source": [
        "### Tuplas"
      ]
    },
    {
      "cell_type": "code",
      "execution_count": 10,
      "metadata": {
        "colab": {
          "base_uri": "https://localhost:8080/",
          "height": 262
        },
        "id": "BCdM3pTBzCIs",
        "outputId": "deecd538-224e-4c81-bab6-190a6f3b9eb6"
      },
      "outputs": [
        {
          "name": "stdout",
          "output_type": "stream",
          "text": [
            "<class 'tuple'>\n",
            "(1, 2, True, 'python')\n",
            "2\n"
          ]
        },
        {
          "ename": "TypeError",
          "evalue": "'tuple' object does not support item assignment",
          "output_type": "error",
          "traceback": [
            "\u001b[0;31m---------------------------------------------------------------------------\u001b[0m",
            "\u001b[0;31mTypeError\u001b[0m                                 Traceback (most recent call last)",
            "\u001b[0;32m/tmp/ipykernel_11906/4193827888.py\u001b[0m in \u001b[0;36m<module>\u001b[0;34m\u001b[0m\n\u001b[1;32m      3\u001b[0m \u001b[0mprint\u001b[0m\u001b[0;34m(\u001b[0m\u001b[0mtupla\u001b[0m\u001b[0;34m)\u001b[0m\u001b[0;34m\u001b[0m\u001b[0;34m\u001b[0m\u001b[0m\n\u001b[1;32m      4\u001b[0m \u001b[0mprint\u001b[0m\u001b[0;34m(\u001b[0m\u001b[0mtupla\u001b[0m\u001b[0;34m[\u001b[0m\u001b[0;36m1\u001b[0m\u001b[0;34m]\u001b[0m\u001b[0;34m)\u001b[0m\u001b[0;34m\u001b[0m\u001b[0;34m\u001b[0m\u001b[0m\n\u001b[0;32m----> 5\u001b[0;31m \u001b[0mtupla\u001b[0m\u001b[0;34m[\u001b[0m\u001b[0;36m0\u001b[0m\u001b[0;34m]\u001b[0m \u001b[0;34m=\u001b[0m \u001b[0;36m3\u001b[0m \u001b[0;31m#<-- las tuplas son inmutables, y tienen tamaño fijo.\u001b[0m\u001b[0;34m\u001b[0m\u001b[0;34m\u001b[0m\u001b[0m\n\u001b[0m",
            "\u001b[0;31mTypeError\u001b[0m: 'tuple' object does not support item assignment"
          ]
        }
      ],
      "source": [
        "tupla = (1,2,True, \"python\")\n",
        "print(type(tupla))\n",
        "print(tupla)\n",
        "print(tupla[1])\n",
        "tupla[0] = 3 #<-- las tuplas son inmutables, y tienen tamaño fijo.\n"
      ]
    },
    {
      "cell_type": "markdown",
      "metadata": {
        "id": "ucKDO_Gj62sj"
      },
      "source": [
        "### Diccionarios"
      ]
    },
    {
      "cell_type": "code",
      "execution_count": null,
      "metadata": {
        "colab": {
          "base_uri": "https://localhost:8080/"
        },
        "id": "K3SC4xYZ5zWK",
        "outputId": "53918edb-fcb3-4ff2-e09f-bfcd5c1aabfd"
      },
      "outputs": [
        {
          "name": "stdout",
          "output_type": "stream",
          "text": [
            "{'Love Actually': 'Richard Curtis', 'Kill Bill': 'Tarantino', 'Amélie': 'Jean-Pierre Jeunet'}\n",
            "Tarantino\n",
            "Quentin Tarantino\n"
          ]
        }
      ],
      "source": [
        "d = {\"Love Actually\": \"Richard Curtis\",\n",
        "\"Kill Bill\": \"Tarantino\",\n",
        "\"Amélie\": \"Jean-Pierre Jeunet\"}\n",
        "\n",
        "print(d)\n",
        "print(d[\"Kill Bill\"])\n",
        "d[\"Kill Bill\"] = \"Quentin Tarantino\"\n",
        "print(d[\"Kill Bill\"])\n"
      ]
    },
    {
      "cell_type": "code",
      "execution_count": null,
      "metadata": {
        "colab": {
          "base_uri": "https://localhost:8080/"
        },
        "id": "-lfmb2xyQSuw",
        "outputId": "a45a8be7-a4bb-4eeb-b616-6eac1b5f4c17"
      },
      "outputs": [
        {
          "name": "stdout",
          "output_type": "stream",
          "text": [
            "{'nombre': 'dario', 'edad': 27, 'documento': '22333444'}\n",
            "{'nombre': 'dario', 'edad': 27, 'documento': 22333444}\n",
            "Juana\n",
            "{'nombre': 'Juana', 'edad': 27, 'documento': 22333444, 'direccion': 'calle falsa 123'}\n"
          ]
        }
      ],
      "source": [
        "d2 = dict([('nombre','dario'),('edad',27),('documento','22333444')])\n",
        "print(d2)\n",
        "d2 = dict(nombre='dario',edad=27,documento=22333444)\n",
        "print(d2)\n",
        "#los dict son dinamicos (pueden crecer o decrecer), indexados (accesibles a través de key) y anidados (contener otro dict dentro)\n",
        "d2[\"nombre\"] = \"Juana\" #seteo de un valor\n",
        "print(d2.get('nombre')) #obtener un valor dado el key\n",
        "d2[\"direccion\"] = \"calle falsa 123\" #si el key no existe se crea\n",
        "print(d2)"
      ]
    },
    {
      "cell_type": "markdown",
      "metadata": {
        "id": "0Ol-vr7KSjtK"
      },
      "source": [
        "#### Métodos para diccionarios"
      ]
    },
    {
      "cell_type": "code",
      "execution_count": null,
      "metadata": {
        "colab": {
          "base_uri": "https://localhost:8080/"
        },
        "id": "OiB-sZmQSnLZ",
        "outputId": "541d2116-8f21-453a-f0ed-ea5eb69c323b"
      },
      "outputs": [
        {
          "name": "stdout",
          "output_type": "stream",
          "text": [
            "{}\n"
          ]
        }
      ],
      "source": [
        "#El método clear() elimina todo el contenido del diccionario.\n",
        "d = {'a': 1, 'b': 2}\n",
        "d.clear()\n",
        "print(d) #{}"
      ]
    },
    {
      "cell_type": "code",
      "execution_count": null,
      "metadata": {
        "colab": {
          "base_uri": "https://localhost:8080/"
        },
        "id": "GUpRDh2HSsYA",
        "outputId": "ef345fe2-cad8-4d1c-c883-671c9e7860dd"
      },
      "outputs": [
        {
          "name": "stdout",
          "output_type": "stream",
          "text": [
            "1\n",
            "No encontrado\n"
          ]
        }
      ],
      "source": [
        "#El método get() nos permite consultar el value para un key determinado.\n",
        "#El segundo parámetro es opcional, y en el caso de proporcionarlo es el valor\n",
        "#a devolver si no se encuentra la key.\n",
        "d = {'a': 1, 'b': 2}\n",
        "print(d.get('a')) #1\n",
        "print(d.get('z', 'No encontrado')) #No encontrado"
      ]
    },
    {
      "cell_type": "code",
      "execution_count": null,
      "metadata": {
        "colab": {
          "base_uri": "https://localhost:8080/"
        },
        "id": "P9MQf1H8S115",
        "outputId": "b8e4e420-c325-481c-b508-92862a4804e2"
      },
      "outputs": [
        {
          "name": "stdout",
          "output_type": "stream",
          "text": [
            "dict_items([('a', 1), ('b', 2)])\n",
            "[('a', 1), ('b', 2)]\n",
            "a\n"
          ]
        }
      ],
      "source": [
        "#El método items() devuelve una lista con los keys y values del diccionario.\n",
        "#Si se convierte en list se puede indexar, siendo los primeros elementos las key\n",
        "# y los segundos los value.\n",
        "d = {'a': 1, 'b': 2}\n",
        "it = d.items()\n",
        "print(it)             #dict_items([('a', 1), ('b', 2)])\n",
        "print(list(it))       #[('a', 1), ('b', 2)]\n",
        "print(list(it)[0][0]) #a"
      ]
    },
    {
      "cell_type": "code",
      "execution_count": null,
      "metadata": {
        "colab": {
          "base_uri": "https://localhost:8080/"
        },
        "id": "JPZ-fgNJTOjo",
        "outputId": "85f3a5eb-e0e4-4245-f200-83c38f042ffb"
      },
      "outputs": [
        {
          "name": "stdout",
          "output_type": "stream",
          "text": [
            "dict_keys(['a', 'b'])\n",
            "['a', 'b']\n"
          ]
        }
      ],
      "source": [
        "#El método keys() devuelve una lista con todas las keys del diccionario.\n",
        "d = {'a': 1, 'b': 2}\n",
        "k = d.keys()\n",
        "print(k)       #dict_keys(['a', 'b'])\n",
        "print(list(k)) #['a', 'b']"
      ]
    },
    {
      "cell_type": "code",
      "execution_count": null,
      "metadata": {
        "colab": {
          "base_uri": "https://localhost:8080/"
        },
        "id": "X8ZkG2mFTQBY",
        "outputId": "a49744b2-7eb1-44d5-b462-d19b7b256702"
      },
      "outputs": [
        {
          "name": "stdout",
          "output_type": "stream",
          "text": [
            "[1, 2]\n"
          ]
        }
      ],
      "source": [
        "#El método values() devuelve una lista con todos los values o valores del diccionario.\n",
        "d = {'a': 1, 'b': 2}\n",
        "print(list(d.values())) #[1, 2]"
      ]
    },
    {
      "cell_type": "code",
      "execution_count": null,
      "metadata": {
        "colab": {
          "base_uri": "https://localhost:8080/"
        },
        "id": "oea5T1LxTVIf",
        "outputId": "55374839-554e-47f5-9884-1560a6b86263"
      },
      "outputs": [
        {
          "name": "stdout",
          "output_type": "stream",
          "text": [
            "{'b': 2}\n"
          ]
        }
      ],
      "source": [
        "#El método pop() busca y elimina la key que se pasa como parámetro y devuelve su\n",
        "#valor asociado. Daría un error si se intenta eliminar una key que no existe.\n",
        "d = {'a': 1, 'b': 2}\n",
        "d.pop('a')\n",
        "print(d) #{'b': 2}"
      ]
    },
    {
      "cell_type": "code",
      "execution_count": null,
      "metadata": {
        "colab": {
          "base_uri": "https://localhost:8080/"
        },
        "id": "Q1BEsaq_UGBv",
        "outputId": "556250c8-7b72-4a7a-8b1f-32b860fe130b"
      },
      "outputs": [
        {
          "name": "stdout",
          "output_type": "stream",
          "text": [
            "{'a': 1, 'b': 2, 'c': 3, 'd': 4, 'e': 5}\n"
          ]
        }
      ],
      "source": [
        "#El método popitem() elimina el ultimo un elemento del diccionario.\n",
        "d = {'a': 1, 'b': 2, 'c': 3, 'd': 4, 'e': 5, 'f': 6}\n",
        "d.popitem()\n",
        "print(d)\n",
        "#{'a': 1, 'b': 2, 'c': 3, 'd': 4, 'e': 5}"
      ]
    },
    {
      "cell_type": "code",
      "execution_count": null,
      "metadata": {
        "colab": {
          "base_uri": "https://localhost:8080/"
        },
        "id": "rPH7kQE1U9Yf",
        "outputId": "c35c0914-c105-44da-bc32-d081c73c1261"
      },
      "outputs": [
        {
          "name": "stdout",
          "output_type": "stream",
          "text": [
            "{'a': 0, 'b': 2, 'd': 400}\n"
          ]
        }
      ],
      "source": [
        "#El método update() se llama sobre un diccionario y tiene como entrada otro diccionario.\n",
        "#Los value son actualizados y si alguna key del nuevo diccionario no esta, es añadida.\n",
        "d1 = {'a': 1, 'b': 2}\n",
        "d2 = {'a': 0, 'd': 400}\n",
        "d1.update(d2)\n",
        "print(d1)\n",
        "#{'a': 0, 'b': 2, 'd': 400}"
      ]
    },
    {
      "cell_type": "markdown",
      "metadata": {
        "id": "PQC6xpl78chJ"
      },
      "source": [
        "# Condicionales"
      ]
    },
    {
      "cell_type": "code",
      "execution_count": null,
      "metadata": {
        "colab": {
          "base_uri": "https://localhost:8080/"
        },
        "id": "lGam2frM7gJ7",
        "outputId": "93ab251f-34d9-44f8-bc70-1ac324b0d24d"
      },
      "outputs": [
        {
          "name": "stdout",
          "output_type": "stream",
          "text": [
            "Miau\n",
            "cero\n",
            "impar\n"
          ]
        }
      ],
      "source": [
        "mascota = \"gato\"\n",
        "if mascota == \"gato\":\n",
        "  print(\"Miau\")\n",
        "else:\n",
        "  print(\"Guau?\")\n",
        "\n",
        "numero = 0\n",
        "if numero <0:\n",
        "  print(\"negativo\")\n",
        "elif numero>0:\n",
        "  print(\"positivo\")\n",
        "else:\n",
        "  print(\"cero\")\n",
        "\n",
        "num= 3\n",
        "is_par = \"par\" if(num % 2 == 0 ) else \"impar\"\n",
        "print(is_par)"
      ]
    },
    {
      "cell_type": "markdown",
      "metadata": {
        "id": "6L22gvJx-Ua7"
      },
      "source": [
        "# Bucles"
      ]
    },
    {
      "cell_type": "markdown",
      "metadata": {
        "id": "ixWKiQqL-pNU"
      },
      "source": [
        "### While"
      ]
    },
    {
      "cell_type": "code",
      "execution_count": null,
      "metadata": {
        "colab": {
          "base_uri": "https://localhost:8080/"
        },
        "id": "JKD34Fr08_Wf",
        "outputId": "f815e795-82c0-4127-d7ad-6ff8c343f7f6"
      },
      "outputs": [
        {
          "name": "stdout",
          "output_type": "stream",
          "text": [
            "1\n",
            "2\n",
            "3\n",
            "4\n",
            "5\n",
            "6\n",
            "7\n",
            "8\n"
          ]
        }
      ],
      "source": [
        "edad = 0\n",
        "while edad < 8:\n",
        "  edad= edad +1\n",
        "  print(edad)"
      ]
    },
    {
      "cell_type": "code",
      "execution_count": null,
      "metadata": {
        "colab": {
          "base_uri": "https://localhost:8080/"
        },
        "id": "ScKzmIOZ-3c1",
        "outputId": "8ef47dda-3b47-4803-c70a-273280c51fdd"
      },
      "outputs": [
        {
          "name": "stdout",
          "output_type": "stream",
          "text": [
            "->hola\n",
            "hola\n",
            "->adios\n"
          ]
        }
      ],
      "source": [
        "while True:\n",
        "  entrada = input(\"->\")\n",
        "  if entrada == \"adios\":\n",
        "    break #nos permite salir del bucle\n",
        "  else:\n",
        "    print(entrada)"
      ]
    },
    {
      "cell_type": "code",
      "execution_count": null,
      "metadata": {
        "colab": {
          "base_uri": "https://localhost:8080/"
        },
        "id": "gOCuGFeK_EgQ",
        "outputId": "0907d9db-7a7f-486a-f693-4d755cd246b2"
      },
      "outputs": [
        {
          "name": "stdout",
          "output_type": "stream",
          "text": [
            "1\n",
            "3\n",
            "5\n"
          ]
        }
      ],
      "source": [
        "num = 0\n",
        "while num < 6:\n",
        "  num = num +1\n",
        "  if num % 2 == 0:\n",
        "    continue # realiza un salto a la siguiente iteración\n",
        "  print(num)"
      ]
    },
    {
      "cell_type": "markdown",
      "metadata": {
        "id": "IeXq1Ek4BJEG"
      },
      "source": [
        "### for"
      ]
    },
    {
      "cell_type": "code",
      "execution_count": null,
      "metadata": {
        "colab": {
          "base_uri": "https://localhost:8080/"
        },
        "id": "nkw-rDnvA221",
        "outputId": "92319d10-48c8-44c0-c56a-6d8b670b08ca"
      },
      "outputs": [
        {
          "name": "stdout",
          "output_type": "stream",
          "text": [
            "uno\n",
            "dos\n",
            "tres\n",
            "0 uno\n",
            "1 dos\n",
            "2 tres\n",
            "uno 1\n",
            "dos 2\n",
            "tres 3\n",
            "4\n",
            "5\n",
            "6\n"
          ]
        }
      ],
      "source": [
        "lista = [\"uno\", \"dos\", \"tres\"]\n",
        "for elemento in lista:\n",
        "  print(elemento)\n",
        "\n",
        "for index, l in enumerate(lista):\n",
        "  print(index, l)\n",
        "\n",
        "lista2 =[1,2,3]\n",
        "\n",
        "for l1, l2 in zip(lista,lista2):\n",
        "  print(l1,l2)\n",
        "\n",
        "lista3 = [4,5,6]\n",
        "\n",
        "for i in range(0, len(lista3)):\n",
        "  print(lista3[i])"
      ]
    },
    {
      "cell_type": "markdown",
      "metadata": {
        "id": "f-lGIfIlMlAY"
      },
      "source": [
        "### Métodos de listas"
      ]
    },
    {
      "cell_type": "code",
      "execution_count": null,
      "metadata": {
        "colab": {
          "base_uri": "https://localhost:8080/"
        },
        "id": "Cbw3M5lqMoL2",
        "outputId": "b30afd99-aac6-4109-f452-01bfd3bc37f8"
      },
      "outputs": [
        {
          "name": "stdout",
          "output_type": "stream",
          "text": [
            "[1, 2, 3]\n",
            "[1, 2, 3, 4, 5]\n",
            "[1, 7, 2, 3, 4, 5]\n",
            "[1, 2, 3, 4, 5]\n",
            "[1, 2, 3, 4]\n",
            "[4, 3, 2, 1]\n",
            "[1, 2, 3, 4]\n",
            "2\n",
            "8\n"
          ]
        }
      ],
      "source": [
        "l = [1,2]\n",
        "l.append(3)\n",
        "#agrega al final\n",
        "print(l)\n",
        "\n",
        "l.extend([4,5]) #agrega lista\n",
        "print(l)\n",
        "\n",
        "l.insert(1,7) #inserta en indice especifico\n",
        "print(l)\n",
        "\n",
        "l.remove(7) #remueve de la lista\n",
        "print(l)\n",
        "\n",
        "l.pop() #elimina el ultimo elemento, o el especificado por el indice pasado por parametro\n",
        "print (l)\n",
        "\n",
        "l.reverse() #invierte la cadena\n",
        "print(l)\n",
        "\n",
        "l.sort() #ordena, por defecto de menor a mayor, con parametro reverse=True lo hace de mayor a menor\n",
        "print(l)\n",
        "\n",
        "l = [\"flor\",\"hoja\", \"tallo\", \"raiz\"]\n",
        "print(l.index(\"tallo\")) #devuelve el indice del objeto en la lista\n",
        "\n",
        "l = [1,1,1,1,3,4,5,6,1]\n",
        "print(l.index(1,4)) #busca el indice de 1 empezando la busqueda desde el 4to elemento"
      ]
    },
    {
      "cell_type": "markdown",
      "metadata": {
        "id": "HMbSF3trBns-"
      },
      "source": [
        "# Funciones"
      ]
    },
    {
      "cell_type": "code",
      "execution_count": null,
      "metadata": {
        "colab": {
          "base_uri": "https://localhost:8080/"
        },
        "id": "dVLmyx0dBqT4",
        "outputId": "eb8fa372-2576-4cc4-aceb-eede083aafd6"
      },
      "outputs": [
        {
          "name": "stdout",
          "output_type": "stream",
          "text": [
            "hola\n",
            "alumnos\n",
            "primero\n",
            "segundo\n"
          ]
        }
      ],
      "source": [
        "def imprimir(val1, val2):\n",
        "  \"\"\"esta función imprime los valores pasados por parametro\"\"\"\n",
        "  print(val1)\n",
        "  print(val2)\n",
        "\n",
        "\n",
        "imprimir(\"hola\",\"alumnos\")\n",
        "imprimir(val1=\"primero\", val2=\"segundo\")"
      ]
    },
    {
      "cell_type": "code",
      "execution_count": null,
      "metadata": {
        "colab": {
          "base_uri": "https://localhost:8080/"
        },
        "id": "X_TDPAFYBUPm",
        "outputId": "be8b190a-fa4f-4bf0-ecaa-3fc61a9c8bfd"
      },
      "outputs": [
        {
          "name": "stdout",
          "output_type": "stream",
          "text": [
            "hola hola hola \n"
          ]
        }
      ],
      "source": [
        "def imprimir(cadena, veces = 1):\n",
        "  \"\"\"Esta función imprime el valor del primer parámetro tantas veces como\n",
        "  indique el segundo parámetro, por defecto una vez.\"\"\"\n",
        "  print(cadena *veces)\n",
        "\n",
        "imprimir(\"hola \",3)"
      ]
    },
    {
      "cell_type": "code",
      "execution_count": null,
      "metadata": {
        "colab": {
          "base_uri": "https://localhost:8080/"
        },
        "id": "WfsSdDcADunR",
        "outputId": "399d8179-49a1-4cf0-e6e8-603a13435f7f"
      },
      "outputs": [
        {
          "name": "stdout",
          "output_type": "stream",
          "text": [
            "<class 'tuple'>\n",
            "3\n",
            "4\n",
            "5\n",
            "6\n",
            "7\n"
          ]
        }
      ],
      "source": [
        "def funcion_tupla(param1, param2, *otros):\n",
        "  print(type(otros))\n",
        "  for val in otros:\n",
        "    print(val)\n",
        "\n",
        "funcion_tupla(1,2,3,4,5,6,7)"
      ]
    },
    {
      "cell_type": "code",
      "execution_count": null,
      "metadata": {
        "colab": {
          "base_uri": "https://localhost:8080/"
        },
        "id": "NS6kp_PGFBAa",
        "outputId": "38b8a651-86a2-4ff5-c7dd-375c29d6d591"
      },
      "outputs": [
        {
          "name": "stdout",
          "output_type": "stream",
          "text": [
            "<class 'dict'>\n",
            "('primero', 'c')\n",
            "('segundo', 'd')\n"
          ]
        }
      ],
      "source": [
        "def funcion_diccionario(param1, param2, **otros):\n",
        "  print(type(otros))\n",
        "  for i in otros.items():\n",
        "    print(i)\n",
        "\n",
        "funcion_diccionario('a','b',primero='c', segundo='d')\n"
      ]
    },
    {
      "cell_type": "markdown",
      "metadata": {
        "id": "u9N1M9tAHI8r"
      },
      "source": [
        "### ¿Paso por valor o por referencia?"
      ]
    },
    {
      "cell_type": "code",
      "execution_count": null,
      "metadata": {
        "colab": {
          "base_uri": "https://localhost:8080/"
        },
        "id": "yl7rwuq8FnEm",
        "outputId": "341e2edc-f0bc-4de1-acbc-6a739be8f954"
      },
      "outputs": [
        {
          "name": "stdout",
          "output_type": "stream",
          "text": [
            "25 [22, 23]\n",
            "22 [22, 23]\n"
          ]
        }
      ],
      "source": [
        "def funcion(x,y):\n",
        "  x=x+3\n",
        "  y.append(23)\n",
        "  print(x,y)\n",
        "\n",
        "x=22 #los inmutables se pasan por valor. La funcion usa una copia de x\n",
        "y=[22] #los mutables se pasan por referencia. La funcion usa un puntero al objeto.\n",
        "funcion(x,y)\n",
        "print(x,y)\n",
        "\n",
        "#inmutables: Booleanos, Complejos, Enteros, Float, Frozenset, Cadenas, Tuplas, Range, Bytes\n",
        "#mutables: Listas, Bytearray, Memoryview, Diccionarios, Sets y clases definidas por el usuario\n"
      ]
    },
    {
      "cell_type": "code",
      "execution_count": null,
      "metadata": {
        "colab": {
          "base_uri": "https://localhost:8080/"
        },
        "id": "aUvYa8Q_7B3i",
        "outputId": "dd7f4221-e2de-4bf0-911b-f65c8743b187"
      },
      "outputs": [
        {
          "name": "stdout",
          "output_type": "stream",
          "text": [
            "11126816\n",
            "11126848\n"
          ]
        }
      ],
      "source": [
        "x = 5\n",
        "print(id(x))\n",
        "x = x + 1\n",
        "print(id(x))"
      ]
    },
    {
      "cell_type": "code",
      "execution_count": null,
      "metadata": {
        "colab": {
          "base_uri": "https://localhost:8080/"
        },
        "id": "WiUGJD448Asp",
        "outputId": "15b79286-3b5b-4820-c066-6dc9c1390b22"
      },
      "outputs": [
        {
          "name": "stdout",
          "output_type": "stream",
          "text": [
            "140240753579984\n",
            "140240753579984\n"
          ]
        }
      ],
      "source": [
        "l = [1, 2, 3]\n",
        "print(id(l))\n",
        "l[0] = 0\n",
        "print(id(l))"
      ]
    },
    {
      "cell_type": "markdown",
      "metadata": {
        "id": "kARpvZQrPduJ"
      },
      "source": [
        "### return"
      ]
    },
    {
      "cell_type": "code",
      "execution_count": null,
      "metadata": {
        "colab": {
          "base_uri": "https://localhost:8080/"
        },
        "id": "ea3C2bZmHaft",
        "outputId": "ce5fb0a1-e02a-4006-b97f-847915645290"
      },
      "outputs": [
        {
          "name": "stdout",
          "output_type": "stream",
          "text": [
            "5\n"
          ]
        }
      ],
      "source": [
        "def sumar(x,y):\n",
        "  return x+y\n",
        "print(sumar(3,2))"
      ]
    },
    {
      "cell_type": "code",
      "execution_count": null,
      "metadata": {
        "colab": {
          "base_uri": "https://localhost:8080/"
        },
        "id": "lOkX_U_MPpRE",
        "outputId": "4c9d326c-6c0e-4467-e5f9-4b764984568e"
      },
      "outputs": [
        {
          "name": "stdout",
          "output_type": "stream",
          "text": [
            "2 4\n"
          ]
        }
      ],
      "source": [
        "def f(x,y):\n",
        "  return x*2,y*2\n",
        "\n",
        "a,b = f(1,2)\n",
        "print(a,b)"
      ]
    },
    {
      "cell_type": "markdown",
      "metadata": {
        "id": "_qhTqiWvefvN"
      },
      "source": [
        "#### Función Lambda"
      ]
    },
    {
      "cell_type": "code",
      "execution_count": null,
      "metadata": {
        "colab": {
          "base_uri": "https://localhost:8080/"
        },
        "id": "GDGMNmnGPxnt",
        "outputId": "58927b6b-ac71-45dd-b37b-d61e665b2ef3"
      },
      "outputs": [
        {
          "data": {
            "text/plain": [
              "6"
            ]
          },
          "execution_count": 187,
          "metadata": {},
          "output_type": "execute_result"
        }
      ],
      "source": [
        "#funciones abreviadas\n",
        "suma = lambda a, b: a + b\n",
        "suma(2, 4)\n",
        "#si se quiere usar una sola vez\n",
        "(lambda a, b: a + b)(2, 4)"
      ]
    },
    {
      "cell_type": "code",
      "execution_count": null,
      "metadata": {
        "colab": {
          "base_uri": "https://localhost:8080/"
        },
        "id": "Nb0NpJ0hfZCB",
        "outputId": "68a6a80a-b4ca-4ab9-e317-0441330eb242"
      },
      "outputs": [
        {
          "data": {
            "text/plain": [
              "6"
            ]
          },
          "execution_count": 189,
          "metadata": {},
          "output_type": "execute_result"
        }
      ],
      "source": [
        "#una función lambda puede ser un parametro de otra función\n",
        "def mi_funcion(lambda_func):\n",
        "    return lambda_func(2,4)\n",
        "\n",
        "mi_funcion(lambda a, b: a + b)\n",
        "\n",
        "\n",
        "# y viceversa\n",
        "\n",
        "def mi_otra_funcion(a, b):\n",
        "    return a + b\n",
        "\n",
        "(lambda a, b: mi_otra_funcion(a, b))(2, 4)\n"
      ]
    }
  ],
  "metadata": {
    "colab": {
      "collapsed_sections": [
        "0Ol-vr7KSjtK"
      ],
      "provenance": []
    },
    "kernelspec": {
      "display_name": "Python 3",
      "name": "python3"
    },
    "language_info": {
      "codemirror_mode": {
        "name": "ipython",
        "version": 3
      },
      "file_extension": ".py",
      "mimetype": "text/x-python",
      "name": "python",
      "nbconvert_exporter": "python",
      "pygments_lexer": "ipython3",
      "version": "3.10.12"
    }
  },
  "nbformat": 4,
  "nbformat_minor": 0
}
